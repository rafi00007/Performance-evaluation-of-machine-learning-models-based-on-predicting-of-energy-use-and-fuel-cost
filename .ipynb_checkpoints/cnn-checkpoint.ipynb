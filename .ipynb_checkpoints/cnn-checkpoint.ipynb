{
 "cells": [
  {
   "cell_type": "code",
   "execution_count": 2,
   "id": "included-chart",
   "metadata": {},
   "outputs": [
    {
     "name": "stdout",
     "output_type": "stream",
     "text": [
      "       Unnamed: 0  EnergyUseAveragePerDwelling  AverageFloorArea\n",
      "0               0                        436.0              58.0\n",
      "1               1                        306.0              97.0\n",
      "2               2                        368.0              53.0\n",
      "3               3                        384.0              78.0\n",
      "4               5                        430.0              66.0\n",
      "...           ...                          ...               ...\n",
      "68637       92696                        285.0              74.0\n",
      "68638       92698                        250.0              68.0\n",
      "68639       92699                        255.0             101.0\n",
      "68640       92700                        282.0              54.0\n",
      "68641       92701                        281.0              76.0\n",
      "\n",
      "[68642 rows x 3 columns]\n"
     ]
    }
   ],
   "source": [
    "import pandas as pd\n",
    "dataset= pd.read_csv(r\"C:\\Users\\rafi\\Desktop\\master pro\\EB7_by_LA2.csv\", encoding= 'unicode_escape', delimiter= ',')\n",
    "print(dataset)"
   ]
  },
  {
   "cell_type": "code",
   "execution_count": 4,
   "id": "hidden-phase",
   "metadata": {},
   "outputs": [],
   "source": [
    "dataset['EnergyUseAveragePerDwelling'] = dataset['EnergyUseAveragePerDwelling'].astype(int)\n",
    "dataset['AverageFloorArea'] = dataset['AverageFloorArea'].astype(int)"
   ]
  },
  {
   "cell_type": "code",
   "execution_count": 5,
   "id": "liable-matrix",
   "metadata": {},
   "outputs": [
    {
     "data": {
      "text/html": [
       "<div>\n",
       "<style scoped>\n",
       "    .dataframe tbody tr th:only-of-type {\n",
       "        vertical-align: middle;\n",
       "    }\n",
       "\n",
       "    .dataframe tbody tr th {\n",
       "        vertical-align: top;\n",
       "    }\n",
       "\n",
       "    .dataframe thead th {\n",
       "        text-align: right;\n",
       "    }\n",
       "</style>\n",
       "<table border=\"1\" class=\"dataframe\">\n",
       "  <thead>\n",
       "    <tr style=\"text-align: right;\">\n",
       "      <th></th>\n",
       "      <th>AverageFloorArea</th>\n",
       "    </tr>\n",
       "  </thead>\n",
       "  <tbody>\n",
       "    <tr>\n",
       "      <th>0</th>\n",
       "      <td>58</td>\n",
       "    </tr>\n",
       "    <tr>\n",
       "      <th>1</th>\n",
       "      <td>97</td>\n",
       "    </tr>\n",
       "    <tr>\n",
       "      <th>2</th>\n",
       "      <td>53</td>\n",
       "    </tr>\n",
       "    <tr>\n",
       "      <th>3</th>\n",
       "      <td>78</td>\n",
       "    </tr>\n",
       "    <tr>\n",
       "      <th>4</th>\n",
       "      <td>66</td>\n",
       "    </tr>\n",
       "    <tr>\n",
       "      <th>...</th>\n",
       "      <td>...</td>\n",
       "    </tr>\n",
       "    <tr>\n",
       "      <th>68637</th>\n",
       "      <td>74</td>\n",
       "    </tr>\n",
       "    <tr>\n",
       "      <th>68638</th>\n",
       "      <td>68</td>\n",
       "    </tr>\n",
       "    <tr>\n",
       "      <th>68639</th>\n",
       "      <td>101</td>\n",
       "    </tr>\n",
       "    <tr>\n",
       "      <th>68640</th>\n",
       "      <td>54</td>\n",
       "    </tr>\n",
       "    <tr>\n",
       "      <th>68641</th>\n",
       "      <td>76</td>\n",
       "    </tr>\n",
       "  </tbody>\n",
       "</table>\n",
       "<p>68642 rows × 1 columns</p>\n",
       "</div>"
      ],
      "text/plain": [
       "       AverageFloorArea\n",
       "0                    58\n",
       "1                    97\n",
       "2                    53\n",
       "3                    78\n",
       "4                    66\n",
       "...                 ...\n",
       "68637                74\n",
       "68638                68\n",
       "68639               101\n",
       "68640                54\n",
       "68641                76\n",
       "\n",
       "[68642 rows x 1 columns]"
      ]
     },
     "execution_count": 5,
     "metadata": {},
     "output_type": "execute_result"
    }
   ],
   "source": [
    "from sklearn.model_selection import train_test_split\n",
    "X=dataset[['AverageFloorArea']]\n",
    "Y=dataset['EnergyUseAveragePerDwelling']\n",
    "X_train, X_test, Y_train, Y_test =train_test_split(X,Y, test_size=0.2, random_state = 0)\n",
    "X\n"
   ]
  },
  {
   "cell_type": "code",
   "execution_count": 6,
   "id": "respiratory-tunisia",
   "metadata": {},
   "outputs": [],
   "source": [
    "from sklearn.preprocessing import StandardScaler\n",
    "scaler=StandardScaler()\n",
    "scaler.fit(X_train)\n",
    "X_train_scaled= scaler.transform(X_train)\n",
    "X_test_scaled=scaler.transform(X_test)"
   ]
  },
  {
   "cell_type": "code",
   "execution_count": 7,
   "id": "czech-river",
   "metadata": {},
   "outputs": [
    {
     "name": "stdout",
     "output_type": "stream",
     "text": [
      "Model: \"model_conv1D\"\n",
      "_________________________________________________________________\n",
      "Layer (type)                 Output Shape              Param #   \n",
      "=================================================================\n",
      "Conv1D_1 (Conv1D)            (None, 1, 64)             128       \n",
      "_________________________________________________________________\n",
      "dropout (Dropout)            (None, 1, 64)             0         \n",
      "_________________________________________________________________\n",
      "Conv1D_2 (Conv1D)            (None, 1, 32)             2080      \n",
      "_________________________________________________________________\n",
      "Conv1D_3 (Conv1D)            (None, 1, 16)             528       \n",
      "_________________________________________________________________\n",
      "maxpooling_2 (MaxPooling1D)  (None, 1, 16)             0         \n",
      "_________________________________________________________________\n",
      "flatten (Flatten)            (None, 16)                0         \n",
      "_________________________________________________________________\n",
      "Dense_1 (Dense)              (None, 32)                544       \n",
      "_________________________________________________________________\n",
      "Dense_3 (Dense)              (None, 1)                 33        \n",
      "=================================================================\n",
      "Total params: 3,313\n",
      "Trainable params: 3,313\n",
      "Non-trainable params: 0\n",
      "_________________________________________________________________\n"
     ]
    }
   ],
   "source": [
    "import tensorflow as tf\n",
    "from tensorflow import keras\n",
    "import numpy as np\n",
    "\n",
    " \n",
    "# Defining the Input layer and FIRST hidden layer, both are same!\n",
    "Sample_size=X_test_scaled.shape[0]\n",
    "time_steps= X_test_scaled.shape[1]\n",
    "input_dim=1\n",
    "train_data_reshaped=X_test_scaled.reshape(Sample_size,time_steps,input_dim)\n",
    "\n",
    "def build_conv1D_model():\n",
    "    n_timesteps=train_data_reshaped.shape[1]\n",
    "    n_feature=train_data_reshaped.shape[2]\n",
    "    model= keras.Sequential(name='model_conv1D')\n",
    "    model.add(keras.layers.Input(shape=(n_timesteps,n_feature)))\n",
    "    model.add(keras.layers.Conv1D(filters=64, kernel_size=1, activation='relu', name='Conv1D_1'))\n",
    "    model.add(keras.layers.Dropout(0.5))\n",
    "    model.add(keras.layers.Conv1D(filters=32, kernel_size=1, activation='relu', name='Conv1D_2'))\n",
    "    #model.add(keras.layers.MaxPooling1D(pool_size=1,name=\"maxpooling_1\"))\n",
    "    model.add(keras.layers.Conv1D(filters=16, kernel_size=1, activation='relu', name='Conv1D_3'))\n",
    "    model.add(keras.layers.MaxPooling1D(pool_size=1,name=\"maxpooling_2\"))\n",
    "    model.add(keras.layers.Flatten())\n",
    "    model.add(keras.layers.Dense(32, activation='relu',name='Dense_1'))\n",
    "    #model.add(keras.layers.Dense(16, activation='relu',name='Dense_2'))\n",
    "    model.add(keras.layers.Dense(n_feature,name='Dense_3'))\n",
    "              \n",
    "    optimizer=tf.keras.optimizers.RMSprop(0.001)\n",
    "    model.compile(loss='mse',optimizer=optimizer, metrics=['mae'])\n",
    "    return model\n",
    "    \n",
    "model=build_conv1D_model()\n",
    "model.summary()"
   ]
  },
  {
   "cell_type": "code",
   "execution_count": null,
   "id": "cardiac-cincinnati",
   "metadata": {},
   "outputs": [],
   "source": [
    "# Fitting the ANN to the Training set\n",
    "model.fit(train_data_reshaped,Y_train ,epochs = 1000,validation_split=0.2)"
   ]
  },
  {
   "cell_type": "code",
   "execution_count": null,
   "id": "appreciated-saturn",
   "metadata": {},
   "outputs": [],
   "source": [
    "prediction =np.squeeze(model.predict([[[45]]]))\n",
    "print(\"Prediction: {}\".format(prediction))"
   ]
  },
  {
   "cell_type": "code",
   "execution_count": null,
   "id": "ranging-indianapolis",
   "metadata": {},
   "outputs": [],
   "source": [
    "import numpy as np\n",
    "prediction =np.squeeze(model.predict(train_data_reshaped[:15])) \n",
    "print('value',prediction)\n",
    "print(Y_test[:15])"
   ]
  },
  {
   "cell_type": "code",
   "execution_count": null,
   "id": "temporal-kingston",
   "metadata": {},
   "outputs": [],
   "source": [
    "from sklearn.metrics import mean_squared_error, mean_absolute_error\n",
    "mse= mean_squared_error(Y_test, np.squeeze(model.predict(train_data_reshaped)) )\n",
    "mae= mean_absolute_error(Y_test, np.squeeze(model.predict(train_data_reshaped)) )\n",
    "print('mean squired error:', mse)\n",
    "print('mean absolute error:', mae)"
   ]
  },
  {
   "cell_type": "code",
   "execution_count": null,
   "id": "musical-rebecca",
   "metadata": {},
   "outputs": [],
   "source": [
    "y_prd=np.squeeze(np.squeeze(model.predict(train_data_reshaped)) )\n",
    "predic_dif=pd.DataFrame({'Actual':Y_test,'predict':y_prd,\"differences\":Y_test-y_prd})\n",
    "predic_dif[0:15]"
   ]
  }
 ],
 "metadata": {
  "kernelspec": {
   "display_name": "Python 3",
   "language": "python",
   "name": "python3"
  },
  "language_info": {
   "codemirror_mode": {
    "name": "ipython",
    "version": 3
   },
   "file_extension": ".py",
   "mimetype": "text/x-python",
   "name": "python",
   "nbconvert_exporter": "python",
   "pygments_lexer": "ipython3",
   "version": "3.8.5"
  }
 },
 "nbformat": 4,
 "nbformat_minor": 5
}
